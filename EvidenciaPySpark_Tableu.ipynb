{
  "nbformat": 4,
  "nbformat_minor": 0,
  "metadata": {
    "colab": {
      "provenance": []
    },
    "kernelspec": {
      "name": "python3",
      "display_name": "Python 3"
    },
    "language_info": {
      "name": "python"
    }
  },
  "cells": [
    {
      "cell_type": "markdown",
      "source": [
        "## **Retroalimentación Módulo 1 de Big Data:**\n",
        "\n",
        "## **Utilización, procesamiento y visualización de grandes volúmenes de datos (Portafolio Análisis)**\n",
        "\n",
        "\n",
        "\n",
        "### Kevin Joan Delgado Pérez A01706328"
      ],
      "metadata": {
        "id": "4rrajPZ8Raoa"
      }
    },
    {
      "cell_type": "markdown",
      "source": [
        "### *Instanciar la sesión de pyspark.*"
      ],
      "metadata": {
        "id": "YaUrMB5B816d"
      }
    },
    {
      "cell_type": "code",
      "execution_count": 1,
      "metadata": {
        "id": "FhF3XBgnRVsp",
        "colab": {
          "base_uri": "https://localhost:8080/",
          "height": 566
        },
        "outputId": "198cce4e-0bd7-4bde-f9b4-f8d28123c0ca"
      },
      "outputs": [
        {
          "output_type": "stream",
          "name": "stdout",
          "text": [
            "\u001b[33m\r0% [Working]\u001b[0m\r            \rHit:1 https://cloud.r-project.org/bin/linux/ubuntu bionic-cran40/ InRelease\n",
            "\u001b[33m\r0% [Connecting to archive.ubuntu.com (185.125.190.36)] [Waiting for headers] [W\u001b[0m\u001b[33m\r0% [1 InRelease gpgv 3,626 B] [Connecting to archive.ubuntu.com (185.125.190.36\u001b[0m\r                                                                               \rGet:2 http://security.ubuntu.com/ubuntu bionic-security InRelease [88.7 kB]\n",
            "\u001b[33m\r0% [1 InRelease gpgv 3,626 B] [Connecting to archive.ubuntu.com (185.125.190.36\u001b[0m\r                                                                               \rIgn:3 https://developer.download.nvidia.com/compute/machine-learning/repos/ubuntu1804/x86_64  InRelease\n",
            "\u001b[33m\r0% [1 InRelease gpgv 3,626 B] [Connecting to archive.ubuntu.com (185.125.190.36\u001b[0m\u001b[33m\r0% [Connecting to archive.ubuntu.com (185.125.190.36)] [2 InRelease 14.2 kB/88.\u001b[0m\r                                                                               \rHit:4 https://developer.download.nvidia.com/compute/cuda/repos/ubuntu1804/x86_64  InRelease\n",
            "Hit:5 https://developer.download.nvidia.com/compute/machine-learning/repos/ubuntu1804/x86_64  Release\n",
            "Hit:7 http://ppa.launchpad.net/c2d4u.team/c2d4u4.0+/ubuntu bionic InRelease\n",
            "Hit:8 http://archive.ubuntu.com/ubuntu bionic InRelease\n",
            "Get:9 http://archive.ubuntu.com/ubuntu bionic-updates InRelease [88.7 kB]\n",
            "Hit:10 http://ppa.launchpad.net/cran/libgit2/ubuntu bionic InRelease\n",
            "Hit:11 http://ppa.launchpad.net/deadsnakes/ppa/ubuntu bionic InRelease\n",
            "Get:12 http://archive.ubuntu.com/ubuntu bionic-backports InRelease [83.3 kB]\n",
            "Hit:13 http://ppa.launchpad.net/graphics-drivers/ppa/ubuntu bionic InRelease\n",
            "Fetched 261 kB in 1s (223 kB/s)\n",
            "Reading package lists... Done\n",
            "Building dependency tree       \n",
            "Reading state information... Done\n",
            "11 packages can be upgraded. Run 'apt list --upgradable' to see them.\n",
            "Looking in indexes: https://pypi.org/simple, https://us-python.pkg.dev/colab-wheels/public/simple/\n",
            "Requirement already satisfied: pyspark in /usr/local/lib/python3.7/dist-packages (3.3.1)\n",
            "Requirement already satisfied: py4j==0.10.9.5 in /usr/local/lib/python3.7/dist-packages (from pyspark) (0.10.9.5)\n"
          ]
        },
        {
          "output_type": "execute_result",
          "data": {
            "text/plain": [
              "<pyspark.sql.session.SparkSession at 0x7fb30fc6d0d0>"
            ],
            "text/html": [
              "\n",
              "            <div>\n",
              "                <p><b>SparkSession - in-memory</b></p>\n",
              "                \n",
              "        <div>\n",
              "            <p><b>SparkContext</b></p>\n",
              "\n",
              "            <p><a href=\"http://5a1bcf3fdf13:4040\">Spark UI</a></p>\n",
              "\n",
              "            <dl>\n",
              "              <dt>Version</dt>\n",
              "                <dd><code>v3.2.2</code></dd>\n",
              "              <dt>Master</dt>\n",
              "                <dd><code>local[*]</code></dd>\n",
              "              <dt>AppName</dt>\n",
              "                <dd><code>Evidence</code></dd>\n",
              "            </dl>\n",
              "        </div>\n",
              "        \n",
              "            </div>\n",
              "        "
            ]
          },
          "metadata": {},
          "execution_count": 1
        }
      ],
      "source": [
        "#Bibliotecas para poder trabajar con Spark\n",
        "!sudo apt update\n",
        "!apt-get install openjdk-8-jdk-headless -qq > /dev/null\n",
        "#!wget -q https://downloads.apache.org/spark/spark-3.2.2//spark-3.2.2-bin-hadoop3.2.tgz\n",
        "!tar xf spark-3.2.2-bin-hadoop3.2.tgz\n",
        "#Configuración de Spark con Python\n",
        "!pip install -q findspark\n",
        "!pip install pyspark\n",
        "\n",
        "#Estableciendo variable de entorno\n",
        "import os\n",
        "os.environ[\"JAVA_HOME\"] = \"/usr/lib/jvm/java-8-openjdk-amd64\"\n",
        "os.environ[\"SPARK_HOME\"] = \"/content/spark-3.2.2-bin-hadoop3.2\"\n",
        "\n",
        "#Buscando e inicializando la instalación de Spark\n",
        "import findspark\n",
        "findspark.init()\n",
        "findspark.find()\n",
        "\n",
        "#Probando PySparl\n",
        "from pyspark.sql import SparkSession\n",
        "\n",
        "spark_Evidence = SparkSession \\\n",
        "       .builder \\\n",
        "       .appName(\"Evidence\") \\\n",
        "       .config(\"spark.driver.memory\", \"15g\") \\\n",
        "       .getOrCreate()\n",
        "\n",
        "spark_Evidence"
      ]
    },
    {
      "cell_type": "code",
      "source": [
        "from google.colab import drive\n",
        "\n",
        "drive.mount(\"/content/gdrive\") "
      ],
      "metadata": {
        "colab": {
          "base_uri": "https://localhost:8080/"
        },
        "id": "dA7IE4i5Y8ny",
        "outputId": "fca0645e-519f-42e3-a562-d7f2a0cb50b0"
      },
      "execution_count": 2,
      "outputs": [
        {
          "output_type": "stream",
          "name": "stdout",
          "text": [
            "Drive already mounted at /content/gdrive; to attempt to forcibly remount, call drive.mount(\"/content/gdrive\", force_remount=True).\n"
          ]
        }
      ]
    },
    {
      "cell_type": "code",
      "source": [
        "%cd \"/content/gdrive/MyDrive/IA_data_sets/Bloque1/Statistics_businessCases\"\n",
        "!ls  # show current directory"
      ],
      "metadata": {
        "colab": {
          "base_uri": "https://localhost:8080/"
        },
        "id": "BBUZ-rGJCmv0",
        "outputId": "cf0bdc20-7958-4228-a46f-a7c76690f526"
      },
      "execution_count": 3,
      "outputs": [
        {
          "output_type": "stream",
          "name": "stdout",
          "text": [
            "/content/gdrive/MyDrive/IA_data_sets/Bloque1/Statistics_businessCases\n",
            "Airlines.csv\t\t       spark-3.2.2-bin-hadoop3.2.tgz.1\tus2022q2e.csv\n",
            "SeoulBikeData.csv\t       us2022q2a.csv\t\t\tusfirms2022.csv\n",
            "spark-3.2.2-bin-hadoop3.2      us2022q2c.csv\n",
            "spark-3.2.2-bin-hadoop3.2.tgz  us2022q2d.csv\n"
          ]
        }
      ]
    },
    {
      "cell_type": "markdown",
      "source": [
        "*Para obtener el dataset, se subió el dataset al Path en el Google Drive seleccionado, al tener nombres columna, se usa el parametro header e indicamos el formato de separador entre columnas (\\t indica un tipo de separador de espacio especial).*\n",
        "\n",
        "*Link del dataset [Skin Segmentation](https://archive.ics.uci.edu/ml/datasets/Skin+Segmentation).*"
      ],
      "metadata": {
        "id": "bg3TAJxueEg0"
      }
    },
    {
      "cell_type": "code",
      "source": [
        "df = spark_Evidence.read.csv(\"/content/gdrive/MyDrive/IA_data_sets/Bloque1/Statistics_businessCases/Airlines.csv\", header=True, inferSchema=True)\n",
        "df"
      ],
      "metadata": {
        "id": "kgx8TWNDY8qO",
        "colab": {
          "base_uri": "https://localhost:8080/"
        },
        "outputId": "707b6ddd-ade8-4ccb-9e9f-fb69349017c6"
      },
      "execution_count": 4,
      "outputs": [
        {
          "output_type": "execute_result",
          "data": {
            "text/plain": [
              "DataFrame[id: int, Airline: string, Flight: int, AirportFrom: string, AirportTo: string, DayOfWeek: int, Time: int, Length: int, Delay: int]"
            ]
          },
          "metadata": {},
          "execution_count": 4
        }
      ]
    },
    {
      "cell_type": "markdown",
      "source": [
        "*Datos mostrados para verificar su uso.*"
      ],
      "metadata": {
        "id": "Q5F0t1BZD5RX"
      }
    },
    {
      "cell_type": "code",
      "source": [
        "df.show()"
      ],
      "metadata": {
        "colab": {
          "base_uri": "https://localhost:8080/"
        },
        "id": "d3g36zafY8tP",
        "outputId": "28f098e8-4f62-4ead-d74e-f68e99f8d2c8"
      },
      "execution_count": 5,
      "outputs": [
        {
          "output_type": "stream",
          "name": "stdout",
          "text": [
            "+---+-------+------+-----------+---------+---------+----+------+-----+\n",
            "| id|Airline|Flight|AirportFrom|AirportTo|DayOfWeek|Time|Length|Delay|\n",
            "+---+-------+------+-----------+---------+---------+----+------+-----+\n",
            "|  1|     CO|   269|        SFO|      IAH|        3|  15|   205|    1|\n",
            "|  2|     US|  1558|        PHX|      CLT|        3|  15|   222|    1|\n",
            "|  3|     AA|  2400|        LAX|      DFW|        3|  20|   165|    1|\n",
            "|  4|     AA|  2466|        SFO|      DFW|        3|  20|   195|    1|\n",
            "|  5|     AS|   108|        ANC|      SEA|        3|  30|   202|    0|\n",
            "|  6|     CO|  1094|        LAX|      IAH|        3|  30|   181|    1|\n",
            "|  7|     DL|  1768|        LAX|      MSP|        3|  30|   220|    0|\n",
            "|  8|     DL|  2722|        PHX|      DTW|        3|  30|   228|    0|\n",
            "|  9|     DL|  2606|        SFO|      MSP|        3|  35|   216|    1|\n",
            "| 10|     AA|  2538|        LAS|      ORD|        3|  40|   200|    1|\n",
            "| 11|     CO|   223|        ANC|      SEA|        3|  49|   201|    1|\n",
            "| 12|     DL|  1646|        PHX|      ATL|        3|  50|   212|    1|\n",
            "| 13|     DL|  2055|        SLC|      ATL|        3|  50|   210|    0|\n",
            "| 14|     AA|  2408|        LAX|      DFW|        3|  55|   170|    0|\n",
            "| 15|     AS|   132|        ANC|      PDX|        3|  55|   215|    0|\n",
            "| 16|     US|   498|        DEN|      CLT|        3|  55|   179|    0|\n",
            "| 17|     B6|    98|        DEN|      JFK|        3|  59|   213|    0|\n",
            "| 18|     CO|  1496|        LAS|      IAH|        3|  60|   162|    0|\n",
            "| 19|     DL|  1450|        LAS|      MSP|        3|  60|   181|    0|\n",
            "| 20|     CO|   507|        ONT|      IAH|        3|  75|   167|    0|\n",
            "+---+-------+------+-----------+---------+---------+----+------+-----+\n",
            "only showing top 20 rows\n",
            "\n"
          ]
        }
      ]
    },
    {
      "cell_type": "code",
      "source": [
        "df = df.drop('id','Airline','AirportFrom','AirportTo')"
      ],
      "metadata": {
        "id": "PPKTXbztGtQg"
      },
      "execution_count": 6,
      "outputs": []
    },
    {
      "cell_type": "code",
      "source": [
        "df.show()"
      ],
      "metadata": {
        "colab": {
          "base_uri": "https://localhost:8080/"
        },
        "id": "-LU0kfvvHFkv",
        "outputId": "371b2db9-7b4c-4ea5-a5c3-15432778b647"
      },
      "execution_count": 7,
      "outputs": [
        {
          "output_type": "stream",
          "name": "stdout",
          "text": [
            "+------+---------+----+------+-----+\n",
            "|Flight|DayOfWeek|Time|Length|Delay|\n",
            "+------+---------+----+------+-----+\n",
            "|   269|        3|  15|   205|    1|\n",
            "|  1558|        3|  15|   222|    1|\n",
            "|  2400|        3|  20|   165|    1|\n",
            "|  2466|        3|  20|   195|    1|\n",
            "|   108|        3|  30|   202|    0|\n",
            "|  1094|        3|  30|   181|    1|\n",
            "|  1768|        3|  30|   220|    0|\n",
            "|  2722|        3|  30|   228|    0|\n",
            "|  2606|        3|  35|   216|    1|\n",
            "|  2538|        3|  40|   200|    1|\n",
            "|   223|        3|  49|   201|    1|\n",
            "|  1646|        3|  50|   212|    1|\n",
            "|  2055|        3|  50|   210|    0|\n",
            "|  2408|        3|  55|   170|    0|\n",
            "|   132|        3|  55|   215|    0|\n",
            "|   498|        3|  55|   179|    0|\n",
            "|    98|        3|  59|   213|    0|\n",
            "|  1496|        3|  60|   162|    0|\n",
            "|  1450|        3|  60|   181|    0|\n",
            "|   507|        3|  75|   167|    0|\n",
            "+------+---------+----+------+-----+\n",
            "only showing top 20 rows\n",
            "\n"
          ]
        }
      ]
    },
    {
      "cell_type": "markdown",
      "source": [
        "*Comprobamos la instancia de los tipos de datos.*"
      ],
      "metadata": {
        "id": "wuGnyqjCEKV6"
      }
    },
    {
      "cell_type": "code",
      "source": [
        "df.printSchema()"
      ],
      "metadata": {
        "id": "u1zKwbcbY8vk",
        "colab": {
          "base_uri": "https://localhost:8080/"
        },
        "outputId": "e1a403f5-87c4-4e27-8fa5-f7352dd2d4b8"
      },
      "execution_count": 8,
      "outputs": [
        {
          "output_type": "stream",
          "name": "stdout",
          "text": [
            "root\n",
            " |-- Flight: integer (nullable = true)\n",
            " |-- DayOfWeek: integer (nullable = true)\n",
            " |-- Time: integer (nullable = true)\n",
            " |-- Length: integer (nullable = true)\n",
            " |-- Delay: integer (nullable = true)\n",
            "\n"
          ]
        }
      ]
    },
    {
      "cell_type": "code",
      "source": [
        "df.show()"
      ],
      "metadata": {
        "colab": {
          "base_uri": "https://localhost:8080/"
        },
        "id": "9_W819aBHKsl",
        "outputId": "eb33d0ac-8326-4754-f33c-18980f7fa494"
      },
      "execution_count": 9,
      "outputs": [
        {
          "output_type": "stream",
          "name": "stdout",
          "text": [
            "+------+---------+----+------+-----+\n",
            "|Flight|DayOfWeek|Time|Length|Delay|\n",
            "+------+---------+----+------+-----+\n",
            "|   269|        3|  15|   205|    1|\n",
            "|  1558|        3|  15|   222|    1|\n",
            "|  2400|        3|  20|   165|    1|\n",
            "|  2466|        3|  20|   195|    1|\n",
            "|   108|        3|  30|   202|    0|\n",
            "|  1094|        3|  30|   181|    1|\n",
            "|  1768|        3|  30|   220|    0|\n",
            "|  2722|        3|  30|   228|    0|\n",
            "|  2606|        3|  35|   216|    1|\n",
            "|  2538|        3|  40|   200|    1|\n",
            "|   223|        3|  49|   201|    1|\n",
            "|  1646|        3|  50|   212|    1|\n",
            "|  2055|        3|  50|   210|    0|\n",
            "|  2408|        3|  55|   170|    0|\n",
            "|   132|        3|  55|   215|    0|\n",
            "|   498|        3|  55|   179|    0|\n",
            "|    98|        3|  59|   213|    0|\n",
            "|  1496|        3|  60|   162|    0|\n",
            "|  1450|        3|  60|   181|    0|\n",
            "|   507|        3|  75|   167|    0|\n",
            "+------+---------+----+------+-----+\n",
            "only showing top 20 rows\n",
            "\n"
          ]
        }
      ]
    },
    {
      "cell_type": "code",
      "source": [
        "df = df.na.drop()"
      ],
      "metadata": {
        "id": "i7v7U4MXNA8B"
      },
      "execution_count": 10,
      "outputs": []
    },
    {
      "cell_type": "code",
      "source": [
        "df.show()"
      ],
      "metadata": {
        "colab": {
          "base_uri": "https://localhost:8080/"
        },
        "id": "ui-4AFBs4fTG",
        "outputId": "457c9932-5da2-4022-99ca-bb2bf39558ef"
      },
      "execution_count": 11,
      "outputs": [
        {
          "output_type": "stream",
          "name": "stdout",
          "text": [
            "+------+---------+----+------+-----+\n",
            "|Flight|DayOfWeek|Time|Length|Delay|\n",
            "+------+---------+----+------+-----+\n",
            "|   269|        3|  15|   205|    1|\n",
            "|  1558|        3|  15|   222|    1|\n",
            "|  2400|        3|  20|   165|    1|\n",
            "|  2466|        3|  20|   195|    1|\n",
            "|   108|        3|  30|   202|    0|\n",
            "|  1094|        3|  30|   181|    1|\n",
            "|  1768|        3|  30|   220|    0|\n",
            "|  2722|        3|  30|   228|    0|\n",
            "|  2606|        3|  35|   216|    1|\n",
            "|  2538|        3|  40|   200|    1|\n",
            "|   223|        3|  49|   201|    1|\n",
            "|  1646|        3|  50|   212|    1|\n",
            "|  2055|        3|  50|   210|    0|\n",
            "|  2408|        3|  55|   170|    0|\n",
            "|   132|        3|  55|   215|    0|\n",
            "|   498|        3|  55|   179|    0|\n",
            "|    98|        3|  59|   213|    0|\n",
            "|  1496|        3|  60|   162|    0|\n",
            "|  1450|        3|  60|   181|    0|\n",
            "|   507|        3|  75|   167|    0|\n",
            "+------+---------+----+------+-----+\n",
            "only showing top 20 rows\n",
            "\n"
          ]
        }
      ]
    },
    {
      "cell_type": "markdown",
      "source": [
        "*Se procede con la preparación de los datos, donde se definen los features para determinar los coeficientes en el modelo y se define el output para general el dataset final.*"
      ],
      "metadata": {
        "id": "Ijm8235odZd7"
      }
    },
    {
      "cell_type": "code",
      "source": [
        "from pyspark.ml.feature import VectorAssembler\n",
        "\n",
        "cols = ['Flight','DayOfWeek','Time','Length']\n",
        "\n",
        "assembler = VectorAssembler(\n",
        "    inputCols=cols,\n",
        "    outputCol=\"Features\")\n",
        "\n",
        "transformed = assembler.transform(df)\n",
        "\n",
        "final_data = transformed.select(\"features\", \"Delay\")\n",
        "final_data.show()"
      ],
      "metadata": {
        "id": "V2PTzbZwY8xn",
        "colab": {
          "base_uri": "https://localhost:8080/"
        },
        "outputId": "065ab5a0-0b15-4cbb-fcda-531366ec673c"
      },
      "execution_count": 12,
      "outputs": [
        {
          "output_type": "stream",
          "name": "stdout",
          "text": [
            "+--------------------+-----+\n",
            "|            features|Delay|\n",
            "+--------------------+-----+\n",
            "|[269.0,3.0,15.0,2...|    1|\n",
            "|[1558.0,3.0,15.0,...|    1|\n",
            "|[2400.0,3.0,20.0,...|    1|\n",
            "|[2466.0,3.0,20.0,...|    1|\n",
            "|[108.0,3.0,30.0,2...|    0|\n",
            "|[1094.0,3.0,30.0,...|    1|\n",
            "|[1768.0,3.0,30.0,...|    0|\n",
            "|[2722.0,3.0,30.0,...|    0|\n",
            "|[2606.0,3.0,35.0,...|    1|\n",
            "|[2538.0,3.0,40.0,...|    1|\n",
            "|[223.0,3.0,49.0,2...|    1|\n",
            "|[1646.0,3.0,50.0,...|    1|\n",
            "|[2055.0,3.0,50.0,...|    0|\n",
            "|[2408.0,3.0,55.0,...|    0|\n",
            "|[132.0,3.0,55.0,2...|    0|\n",
            "|[498.0,3.0,55.0,1...|    0|\n",
            "|[98.0,3.0,59.0,21...|    0|\n",
            "|[1496.0,3.0,60.0,...|    0|\n",
            "|[1450.0,3.0,60.0,...|    0|\n",
            "|[507.0,3.0,75.0,1...|    0|\n",
            "+--------------------+-----+\n",
            "only showing top 20 rows\n",
            "\n"
          ]
        }
      ]
    },
    {
      "cell_type": "markdown",
      "source": [
        "*Se genera el split de datos, según las recomendaciones vistas durante los distintos módulos de aprendizaje, la proporción estándar es de 75% para training y 25% para validation.*"
      ],
      "metadata": {
        "id": "_QSKH1x6df1B"
      }
    },
    {
      "cell_type": "code",
      "source": [
        "(df_train, df_test) = final_data.randomSplit([0.80, 0.20], seed=42)"
      ],
      "metadata": {
        "id": "CC-bw5cUY82H"
      },
      "execution_count": 13,
      "outputs": []
    },
    {
      "cell_type": "markdown",
      "source": [
        "*Se procede con la generación del modelo, al tener un dataset que se centra en la clasificación de categorías se optó por iniciar con una regresión logística, aprovechando sus beneficios de rápido procesamiento.*"
      ],
      "metadata": {
        "id": "ncVZV9j8diLk"
      }
    },
    {
      "cell_type": "code",
      "source": [
        "from pyspark.ml.classification import LogisticRegression\n",
        "\n",
        "lr = LogisticRegression(featuresCol = 'features', labelCol = 'Delay', maxIter=15)\n",
        "lrModel = lr.fit(df_train)"
      ],
      "metadata": {
        "id": "adh0cZ4nY84R"
      },
      "execution_count": 14,
      "outputs": []
    },
    {
      "cell_type": "markdown",
      "source": [
        "*Mostramos los resultados de las predicciones a partir del dataframe dedicado al test*"
      ],
      "metadata": {
        "id": "rYY5APoLdm2f"
      }
    },
    {
      "cell_type": "code",
      "source": [
        "prediction_result = lrModel.evaluate(df_test)\n",
        "prediction_result.predictions.show()"
      ],
      "metadata": {
        "id": "nu0mjDWudkov",
        "colab": {
          "base_uri": "https://localhost:8080/"
        },
        "outputId": "7e13a1b4-c0e0-407b-f963-a601d9a117c5"
      },
      "execution_count": 15,
      "outputs": [
        {
          "output_type": "stream",
          "name": "stderr",
          "text": [
            "/content/spark-3.2.2-bin-hadoop3.2/python/pyspark/sql/context.py:127: FutureWarning: Deprecated in 3.0.0. Use SparkSession.builder.getOrCreate() instead.\n",
            "  FutureWarning\n"
          ]
        },
        {
          "output_type": "stream",
          "name": "stdout",
          "text": [
            "+--------------------+-----+--------------------+--------------------+----------+\n",
            "|            features|Delay|       rawPrediction|         probability|prediction|\n",
            "+--------------------+-----+--------------------+--------------------+----------+\n",
            "|[1.0,1.0,420.0,60.0]|    1|[0.53921204479494...|[0.63162910024287...|       0.0|\n",
            "|[1.0,1.0,485.0,18...|    1|[0.31441653072040...|[0.57796291849487...|       0.0|\n",
            "|[1.0,1.0,485.0,18...|    1|[0.31441653072040...|[0.57796291849487...|       0.0|\n",
            "|[1.0,1.0,550.0,38...|    0|[0.00441876533590...|[0.50110468953651...|       0.0|\n",
            "|[1.0,1.0,650.0,31...|    0|[-0.0169503751097...|[0.49576250768007...|       1.0|\n",
            "|[1.0,2.0,480.0,35...|    0|[0.14643351209855...|[0.53654310256002...|       0.0|\n",
            "|[1.0,2.0,540.0,35...|    0|[0.08561075948751...|[0.52138962739218...|       0.0|\n",
            "|[1.0,2.0,595.0,54...|    0|[-0.2144498857465...|[0.44659205226359...|       1.0|\n",
            "|[1.0,3.0,485.0,18...|    0|[0.37052399570425...|[0.59158558819797...|       0.0|\n",
            "|[1.0,3.0,485.0,18...|    1|[0.37052399570425...|[0.59158558819797...|       0.0|\n",
            "|[1.0,3.0,485.0,18...|    1|[0.37052399570425...|[0.59158558819797...|       0.0|\n",
            "|[1.0,3.0,500.0,50.0]|    1|[0.51822261199271...|[0.62673205971494...|       0.0|\n",
            "|[1.0,3.0,540.0,35...|    0|[0.11366449197943...|[0.52838556868439...|       0.0|\n",
            "|[1.0,3.0,550.0,38...|    1|[0.06052623031975...|[0.51512693982830...|       0.0|\n",
            "|[1.0,3.0,595.0,54...|    1|[-0.1863961532546...|[0.45353541248424...|       1.0|\n",
            "|[1.0,4.0,480.0,35...|    1|[0.20254097708240...|[0.55046285128298...|       0.0|\n",
            "|[1.0,4.0,500.0,50.0]|    1|[0.54627634448464...|[0.63327124374961...|       0.0|\n",
            "|[1.0,5.0,485.0,18...|    0|[0.42663146068810...|[0.60506900613447...|       0.0|\n",
            "|[1.0,5.0,550.0,38...|    0|[0.11663369530361...|[0.52912541420844...|       0.0|\n",
            "|[1.0,5.0,595.0,54...|    0|[-0.1302886882707...|[0.46747382628897...|       1.0|\n",
            "+--------------------+-----+--------------------+--------------------+----------+\n",
            "only showing top 20 rows\n",
            "\n"
          ]
        }
      ]
    },
    {
      "cell_type": "markdown",
      "source": [
        "*Para comprobar la eficiencia del modelo de regresión logística, se obtienen las métricas de precisión y error de pruebas*\n"
      ],
      "metadata": {
        "id": "yKow_EohdqFq"
      }
    },
    {
      "cell_type": "code",
      "source": [
        "from pyspark.ml.evaluation import MulticlassClassificationEvaluator"
      ],
      "metadata": {
        "id": "4JMcRQTJmT90"
      },
      "execution_count": 16,
      "outputs": []
    },
    {
      "cell_type": "code",
      "source": [
        "acc = lrModel.summary.accuracy\n",
        "acc"
      ],
      "metadata": {
        "colab": {
          "base_uri": "https://localhost:8080/"
        },
        "id": "kw7IGwJ6ektb",
        "outputId": "986f6ebc-43f2-460a-8bee-b3ebcf138793"
      },
      "execution_count": 17,
      "outputs": [
        {
          "output_type": "execute_result",
          "data": {
            "text/plain": [
              "0.5716480974576369"
            ]
          },
          "metadata": {},
          "execution_count": 17
        }
      ]
    },
    {
      "cell_type": "code",
      "source": [
        "print(\"Test Error = %g\" % (1.0 - acc))"
      ],
      "metadata": {
        "id": "5vLQdTFNdktI",
        "colab": {
          "base_uri": "https://localhost:8080/"
        },
        "outputId": "afe1c108-3eb2-4947-9e30-5fa51e25d6a9"
      },
      "execution_count": 18,
      "outputs": [
        {
          "output_type": "stream",
          "name": "stdout",
          "text": [
            "Test Error = 0.428352\n"
          ]
        }
      ]
    }
  ]
}